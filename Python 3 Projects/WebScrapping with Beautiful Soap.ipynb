{
 "cells": [
  {
   "cell_type": "code",
   "execution_count": 1,
   "metadata": {},
   "outputs": [],
   "source": [
    "import requests\n",
    "from bs4 import BeautifulSoup\n",
    "import pandas as pd\n",
    "import matplotlib.pyplot as plt\n",
    "import seaborn as sns"
   ]
  },
  {
   "cell_type": "code",
   "execution_count": 17,
   "metadata": {},
   "outputs": [],
   "source": [
    "url = requests.get('https://www.imdb.com/chart/top/?ref_=nv_mv_250')\n",
    "\n",
    "soup = BeautifulSoup(url.content)\n",
    "# print (soup.prettify())"
   ]
  },
  {
   "cell_type": "code",
   "execution_count": 18,
   "metadata": {},
   "outputs": [],
   "source": [
    "table = soup.find_all('tbody', {'class': 'lister-list'})\n",
    "# table"
   ]
  },
  {
   "cell_type": "code",
   "execution_count": 19,
   "metadata": {},
   "outputs": [],
   "source": [
    "lst_name_details= []\n",
    "\n",
    "def get_details(a, b, c):\n",
    "    for a in soup.findAll(a, attrs={b: c}):\n",
    "        name_details = {}\n",
    "        name_details['FilmName'] = a.get_text().replace('\\n', '').strip()[:-6]\n",
    "        name_details['Year'] = a.get_text()[-6:-2]\n",
    "        lst_name_details.append(name_details)\n",
    "    return (name_details)\n",
    "\n",
    "lst_rating = []\n",
    "def get_ratings(a, b, c):\n",
    "    for c in soup.findAll(a, attrs={'class': 'ratingColumn imdbRating'}):\n",
    "        rating_details = {}\n",
    "        rating_details['IMDB Rating'] = c.get_text().strip()\n",
    "        lst_rating.append(rating_details)\n",
    "    return (rating_details)"
   ]
  },
  {
   "cell_type": "code",
   "execution_count": 20,
   "metadata": {},
   "outputs": [
    {
     "data": {
      "text/plain": [
       "{'FilmName': u'250.      Groundhog Day', 'Year': u'1993'}"
      ]
     },
     "execution_count": 20,
     "metadata": {},
     "output_type": "execute_result"
    }
   ],
   "source": [
    "get_details('td', 'class', 'titleColumn')"
   ]
  },
  {
   "cell_type": "code",
   "execution_count": 21,
   "metadata": {},
   "outputs": [
    {
     "data": {
      "text/plain": [
       "{'IMDB Rating': u'8.0'}"
      ]
     },
     "execution_count": 21,
     "metadata": {},
     "output_type": "execute_result"
    }
   ],
   "source": [
    "get_ratings('td', 'class', 'ratingColumn imdbRating')"
   ]
  },
  {
   "cell_type": "code",
   "execution_count": 22,
   "metadata": {},
   "outputs": [
    {
     "name": "stdout",
     "output_type": "stream",
     "text": [
      "[{'Year': u'1994', 'FilmName': u'1.      The Shawshank Redemption'}, {'Year': u'1972', 'FilmName': u'2.      The Godfather'}, {'Year': u'1974', 'FilmName': u'3.      The Godfather: Part II'}, {'Year': u'2008', 'FilmName': u'4.      The Dark Knight'}, {'Year': u'1957', 'FilmName': u'5.      12 Angry Men'}, {'Year': u'1993', 'FilmName': u\"6.      Schindler's List\"}, {'Year': u'2003', 'FilmName': u'7.      The Lord of the Rings: The Return of the King'}, {'Year': u'1994', 'FilmName': u'8.      Pulp Fiction'}, {'Year': u'1966', 'FilmName': u'9.      Il buono, il brutto, il cattivo'}, {'Year': u'2001', 'FilmName': u'10.      The Lord of the Rings: The Fellowship of the Ring'}, {'Year': u'1999', 'FilmName': u'11.      Fight Club'}, {'Year': u'1994', 'FilmName': u'12.      Forrest Gump'}, {'Year': u'2010', 'FilmName': u'13.      Inception'}, {'Year': u'1980', 'FilmName': u'14.      Star Wars: Episode V - The Empire Strikes Back'}, {'Year': u'2002', 'FilmName': u'15.      The Lord of the Rings: The Two Towers'}, {'Year': u'1999', 'FilmName': u'16.      The Matrix'}, {'Year': u'1990', 'FilmName': u'17.      Goodfellas'}, {'Year': u'1975', 'FilmName': u\"18.      One Flew Over the Cuckoo's Nest\"}, {'Year': u'1954', 'FilmName': u'19.      Shichinin no samurai'}, {'Year': u'1995', 'FilmName': u'20.      Se7en'}, {'Year': u'2002', 'FilmName': u'21.      Cidade de Deus'}, {'Year': u'1997', 'FilmName': u'22.      La vita \\xe8 bella'}, {'Year': u'1991', 'FilmName': u'23.      The Silence of the Lambs'}, {'Year': u'1946', 'FilmName': u\"24.      It's a Wonderful Life\"}, {'Year': u'2019', 'FilmName': u'25.      Gisaengchung'}, {'Year': u'1977', 'FilmName': u'26.      Star Wars'}, {'Year': u'1998', 'FilmName': u'27.      Saving Private Ryan'}, {'Year': u'2001', 'FilmName': u'28.      Sen to Chihiro no kamikakushi'}, {'Year': u'1999', 'FilmName': u'29.      The Green Mile'}, {'Year': u'2014', 'FilmName': u'30.      Interstellar'}, {'Year': u'1994', 'FilmName': u'31.      L\\xe9on'}, {'Year': u'1995', 'FilmName': u'32.      The Usual Suspects'}, {'Year': u'1962', 'FilmName': u'33.      Seppuku'}, {'Year': u'1994', 'FilmName': u'34.      The Lion King'}, {'Year': u'1998', 'FilmName': u'35.      American History X'}, {'Year': u'1991', 'FilmName': u'36.      Terminator 2: Judgment Day'}, {'Year': u'1985', 'FilmName': u'37.      Back to the Future'}, {'Year': u'2002', 'FilmName': u'38.      The Pianist'}, {'Year': u'1936', 'FilmName': u'39.      Modern Times'}, {'Year': u'1960', 'FilmName': u'40.      Psycho'}, {'Year': u'2000', 'FilmName': u'41.      Gladiator'}, {'Year': u'1931', 'FilmName': u'42.      City Lights'}, {'Year': u'2011', 'FilmName': u'43.      The Intouchables'}, {'Year': u'2006', 'FilmName': u'44.      The Departed'}, {'Year': u'2014', 'FilmName': u'45.      Whiplash'}, {'Year': u'2006', 'FilmName': u'46.      The Prestige'}, {'Year': u'1968', 'FilmName': u'47.      Once Upon a Time in the West'}, {'Year': u'2019', 'FilmName': u'48.      Joker'}, {'Year': u'1988', 'FilmName': u'49.      Hotaru no haka'}, {'Year': u'1942', 'FilmName': u'50.      Casablanca'}, {'Year': u'1954', 'FilmName': u'51.      Rear Window'}, {'Year': u'1988', 'FilmName': u'52.      Nuovo Cinema Paradiso'}, {'Year': u'1979', 'FilmName': u'53.      Alien'}, {'Year': u'1979', 'FilmName': u'54.      Apocalypse Now'}, {'Year': u'1981', 'FilmName': u'55.      Raiders of the Lost Ark'}, {'Year': u'2000', 'FilmName': u'56.      Memento'}, {'Year': u'1940', 'FilmName': u'57.      The Great Dictator'}, {'Year': u'2006', 'FilmName': u'58.      The Lives of Others'}, {'Year': u'2012', 'FilmName': u'59.      Django Unchained'}, {'Year': u'2018', 'FilmName': u'60.      Avengers: Infinity War'}, {'Year': u'1957', 'FilmName': u'61.      Paths of Glory'}, {'Year': u'1980', 'FilmName': u'62.      The Shining'}, {'Year': u'2008', 'FilmName': u'63.      WALL\\xb7E'}, {'Year': u'2018', 'FilmName': u'64.      Spider-Man: Into the Spider-Verse'}, {'Year': u'1950', 'FilmName': u'65.      Sunset Blvd.'}, {'Year': u'1997', 'FilmName': u'66.      Mononoke-hime'}, {'Year': u'1964', 'FilmName': u'67.      Dr. Strangelove or: How I Learned to Stop Worrying and Love the Bomb'}, {'Year': u'2019', 'FilmName': u'68.      Avengers: Endgame'}, {'Year': u'2019', 'FilmName': u'69.      1917'}, {'Year': u'2003', 'FilmName': u'70.      Oldeuboi'}, {'Year': u'1957', 'FilmName': u'71.      Witness for the Prosecution'}, {'Year': u'2012', 'FilmName': u'72.      The Dark Knight Rises'}, {'Year': u'1984', 'FilmName': u'73.      Once Upon a Time in America'}, {'Year': u'1986', 'FilmName': u'74.      Aliens'}, {'Year': u'2016', 'FilmName': u'75.      Kimi no na wa.'}, {'Year': u'1999', 'FilmName': u'76.      American Beauty'}, {'Year': u'2017', 'FilmName': u'77.      Coco'}, {'Year': u'1995', 'FilmName': u'78.      Braveheart'}, {'Year': u'1981', 'FilmName': u'79.      Das Boot'}, {'Year': u'2009', 'FilmName': u'80.      3 Idiots'}, {'Year': u'1995', 'FilmName': u'81.      Toy Story'}, {'Year': u'1963', 'FilmName': u'82.      Tengoku to jigoku'}, {'Year': u'1983', 'FilmName': u'83.      Star Wars: Episode VI - Return of the Jedi'}, {'Year': u'2007', 'FilmName': u'84.      Taare Zameen Par'}, {'Year': u'1984', 'FilmName': u'85.      Amadeus'}, {'Year': u'1992', 'FilmName': u'86.      Reservoir Dogs'}, {'Year': u'2009', 'FilmName': u'87.      Inglourious Basterds'}, {'Year': u'1997', 'FilmName': u'88.      Good Will Hunting'}, {'Year': u'1968', 'FilmName': u'89.      2001: A Space Odyssey'}, {'Year': u'2000', 'FilmName': u'90.      Requiem for a Dream'}, {'Year': u'1931', 'FilmName': u'91.      M - Eine Stadt sucht einen M\\xf6rder'}, {'Year': u'1958', 'FilmName': u'92.      Vertigo'}, {'Year': u'2016', 'FilmName': u'93.      Dangal'}, {'Year': u'2004', 'FilmName': u'94.      Eternal Sunshine of the Spotless Mind'}, {'Year': u'1941', 'FilmName': u'95.      Citizen Kane'}, {'Year': u'2012', 'FilmName': u'96.      Jagten'}, {'Year': u'1987', 'FilmName': u'97.      Full Metal Jacket'}, {'Year': u'1959', 'FilmName': u'98.      North by Northwest'}, {'Year': u'1971', 'FilmName': u'99.      A Clockwork Orange'}, {'Year': u'2000', 'FilmName': u'100.      Snatch'}, {'Year': u'1921', 'FilmName': u'101.      The Kid'}, {'Year': u'1948', 'FilmName': u'102.      Ladri di biciclette'}, {'Year': u'1952', 'FilmName': u\"103.      Singin' in the Rain\"}, {'Year': u'1983', 'FilmName': u'104.      Scarface'}, {'Year': u'1976', 'FilmName': u'105.      Taxi Driver'}, {'Year': u'2001', 'FilmName': u'106.      Am\\xe9lie'}, {'Year': u'1962', 'FilmName': u'107.      Lawrence of Arabia'}, {'Year': u'2010', 'FilmName': u'108.      Toy Story 3'}, {'Year': u'1973', 'FilmName': u'109.      The Sting'}, {'Year': u'2018', 'FilmName': u'110.      Capharna\\xfcm'}, {'Year': u'1927', 'FilmName': u'111.      Metropolis'}, {'Year': u'1965', 'FilmName': u'112.      Per qualche dollaro in pi\\xf9'}, {'Year': u'1952', 'FilmName': u'113.      Ikiru'}, {'Year': u'2011', 'FilmName': u'114.      Jodaeiye Nader az Simin'}, {'Year': u'1944', 'FilmName': u'115.      Double Indemnity'}, {'Year': u'1962', 'FilmName': u'116.      To Kill a Mockingbird'}, {'Year': u'1960', 'FilmName': u'117.      The Apartment'}, {'Year': u'1989', 'FilmName': u'118.      Indiana Jones and the Last Crusade'}, {'Year': u'2010', 'FilmName': u'119.      Incendies'}, {'Year': u'2009', 'FilmName': u'120.      Up'}, {'Year': u'1997', 'FilmName': u'121.      L.A. Confidential'}, {'Year': u'1975', 'FilmName': u'122.      Monty Python and the Holy Grail'}, {'Year': u'1995', 'FilmName': u'123.      Heat'}, {'Year': u'1950', 'FilmName': u'124.      Rash\\xf4mon'}, {'Year': u'1988', 'FilmName': u'125.      Die Hard'}, {'Year': u'1961', 'FilmName': u'126.      Y\\xf4jinb\\xf4'}, {'Year': u'2005', 'FilmName': u'127.      Batman Begins'}, {'Year': u'1992', 'FilmName': u'128.      Unforgiven'}, {'Year': u'2004', 'FilmName': u'129.      Der Untergang'}, {'Year': u'2018', 'FilmName': u'130.      Green Book'}, {'Year': u'1997', 'FilmName': u'131.      Bacheha-Ye aseman'}, {'Year': u'1985', 'FilmName': u'132.      Idi i smotri'}, {'Year': u'1959', 'FilmName': u'133.      Some Like It Hot'}, {'Year': u'2004', 'FilmName': u'134.      Hauru no ugoku shiro'}, {'Year': u'1985', 'FilmName': u'135.      Ran'}, {'Year': u'1963', 'FilmName': u'136.      The Great Escape'}, {'Year': u'1950', 'FilmName': u'137.      All About Eve'}, {'Year': u'2001', 'FilmName': u'138.      A Beautiful Mind'}, {'Year': u'1995', 'FilmName': u'139.      Casino'}, {'Year': u'1988', 'FilmName': u'140.      Tonari no Totoro'}, {'Year': u'2006', 'FilmName': u\"141.      Pan's Labyrinth\"}, {'Year': u'1980', 'FilmName': u'142.      Raging Bull'}, {'Year': u'2009', 'FilmName': u'143.      El secreto de sus ojos'}, {'Year': u'1998', 'FilmName': u'144.      Lock, Stock and Two Smoking Barrels'}, {'Year': u'2013', 'FilmName': u'145.      The Wolf of Wall Street'}, {'Year': u'1948', 'FilmName': u'146.      The Treasure of the Sierra Madre'}, {'Year': u'1961', 'FilmName': u'147.      Judgment at Nuremberg'}, {'Year': u'2017', 'FilmName': u'148.      Three Billboards Outside Ebbing, Missouri'}, {'Year': u'2007', 'FilmName': u'149.      There Will Be Blood'}, {'Year': u'1974', 'FilmName': u'150.      Chinatown'}, {'Year': u'1925', 'FilmName': u'151.      The Gold Rush'}, {'Year': u'2005', 'FilmName': u'152.      Babam ve Oglum'}, {'Year': u'1954', 'FilmName': u'153.      Dial M for Murder'}, {'Year': u'2005', 'FilmName': u'154.      V for Vendetta'}, {'Year': u'1957', 'FilmName': u'155.      Det sjunde inseglet'}, {'Year': u'2015', 'FilmName': u'156.      Inside Out'}, {'Year': u'2007', 'FilmName': u'157.      No Country for Old Men'}, {'Year': u'2011', 'FilmName': u'158.      Warrior'}, {'Year': u'1996', 'FilmName': u'159.      Trainspotting'}, {'Year': u'2010', 'FilmName': u'160.      Shutter Island'}, {'Year': u'1980', 'FilmName': u'161.      The Elephant Man'}, {'Year': u'1999', 'FilmName': u'162.      The Sixth Sense'}, {'Year': u'2015', 'FilmName': u'163.      Room'}, {'Year': u'1982', 'FilmName': u'164.      The Thing'}, {'Year': u'1939', 'FilmName': u'165.      Gone with the Wind'}, {'Year': u'1993', 'FilmName': u'166.      Jurassic Park'}, {'Year': u'1982', 'FilmName': u'167.      Blade Runner'}, {'Year': u'1957', 'FilmName': u'168.      The Bridge on the River Kwai'}, {'Year': u'1949', 'FilmName': u'169.      The Third Man'}, {'Year': u'2003', 'FilmName': u'170.      Finding Nemo'}, {'Year': u'1957', 'FilmName': u'171.      Smultronst\\xe4llet'}, {'Year': u'1954', 'FilmName': u'172.      On the Waterfront'}, {'Year': u'1996', 'FilmName': u'173.      Fargo'}, {'Year': u'2003', 'FilmName': u'174.      Kill Bill: Vol. 1'}, {'Year': u'2008', 'FilmName': u'175.      Gran Torino'}, {'Year': u'1979', 'FilmName': u'176.      Stalker'}, {'Year': u'1998', 'FilmName': u'177.      The Truman Show'}, {'Year': u'1978', 'FilmName': u'178.      The Deer Hunter'}, {'Year': u'1953', 'FilmName': u'179.      T\\xf4ky\\xf4 monogatari'}, {'Year': u'2003', 'FilmName': u'180.      Salinui chueok'}, {'Year': u'2014', 'FilmName': u'181.      Relatos salvajes'}, {'Year': u'1996', 'FilmName': u'182.      Eskiya'}, {'Year': u'1998', 'FilmName': u'183.      The Big Lebowski'}, {'Year': u'2018', 'FilmName': u'184.      Andhadhun'}, {'Year': u'2009', 'FilmName': u'185.      Mary and Max'}, {'Year': u'2019', 'FilmName': u'186.      Klaus'}, {'Year': u'1993', 'FilmName': u'187.      In the Name of the Father'}, {'Year': u'2014', 'FilmName': u'188.      Gone Girl'}, {'Year': u'2019', 'FilmName': u'189.      Ford v Ferrari'}, {'Year': u'2016', 'FilmName': u'190.      Hacksaw Ridge'}, {'Year': u'2014', 'FilmName': u'191.      The Grand Budapest Hotel'}, {'Year': u'1939', 'FilmName': u'192.      Mr. Smith Goes to Washington'}, {'Year': u'1926', 'FilmName': u'193.      The General'}, {'Year': u'2010', 'FilmName': u'194.      How to Train Your Dragon'}, {'Year': u'1924', 'FilmName': u'195.      Sherlock Jr.'}, {'Year': u'1995', 'FilmName': u'196.      Before Sunrise'}, {'Year': u'1966', 'FilmName': u'197.      Persona'}, {'Year': u'2002', 'FilmName': u'198.      Catch Me If You Can'}, {'Year': u'2013', 'FilmName': u'199.      Prisoners'}, {'Year': u'2013', 'FilmName': u'200.      12 Years a Slave'}, {'Year': u'1967', 'FilmName': u'201.      Cool Hand Luke'}, {'Year': u'2015', 'FilmName': u'202.      Mad Max: Fury Road'}, {'Year': u'1986', 'FilmName': u'203.      Stand by Me'}, {'Year': u'1953', 'FilmName': u'204.      Le salaire de la peur'}, {'Year': u'2007', 'FilmName': u'205.      Into the Wild'}, {'Year': u'1976', 'FilmName': u'206.      Network'}, {'Year': u'1975', 'FilmName': u'207.      Barry Lyndon'}, {'Year': u'1979', 'FilmName': u'208.      Life of Brian'}, {'Year': u'1986', 'FilmName': u'209.      Platoon'}, {'Year': u'2004', 'FilmName': u'210.      Million Dollar Baby'}, {'Year': u'2009', 'FilmName': u\"211.      Hachi: A Dog's Tale\"}, {'Year': u'1928', 'FilmName': u\"212.      La passion de Jeanne d'Arc\"}, {'Year': u'2013', 'FilmName': u'213.      Rush'}, {'Year': u'1959', 'FilmName': u'214.      Ben-Hur'}, {'Year': u'2017', 'FilmName': u'215.      Logan'}, {'Year': u'1966', 'FilmName': u'216.      Andrei Rublev'}, {'Year': u'2011', 'FilmName': u'217.      Harry Potter and the Deathly Hallows: Part 2'}, {'Year': u'1989', 'FilmName': u'218.      Dead Poets Society'}, {'Year': u'2006', 'FilmName': u'219.      Rang De Basanti'}, {'Year': u'1959', 'FilmName': u'220.      Les quatre cents coups'}, {'Year': u'1984', 'FilmName': u'221.      Kaze no tani no Naushika'}, {'Year': u'2000', 'FilmName': u'222.      Amores perros'}, {'Year': u'2004', 'FilmName': u'223.      Hotel Rwanda'}, {'Year': u'2015', 'FilmName': u'224.      Spotlight'}, {'Year': u'2016', 'FilmName': u'225.      Ah-ga-ssi'}, {'Year': u'1940', 'FilmName': u'226.      Rebecca'}, {'Year': u'1976', 'FilmName': u'227.      Rocky'}, {'Year': u'2001', 'FilmName': u'228.      Monsters, Inc.'}, {'Year': u'1995', 'FilmName': u'229.      La haine'}, {'Year': u'1934', 'FilmName': u'230.      It Happened One Night'}, {'Year': u'1951', 'FilmName': u'231.      Ace in the Hole'}, {'Year': u'1948', 'FilmName': u'232.      The Red Shoes'}, {'Year': u'1987', 'FilmName': u'233.      The Princess Bride'}, {'Year': u'2004', 'FilmName': u'234.      Before Sunset'}, {'Year': u'2000', 'FilmName': u'235.      Faa yeung nin wa'}, {'Year': u'2011', 'FilmName': u'236.      The Help'}, {'Year': u'2012', 'FilmName': u'237.      Gangs of Wasseypur'}, {'Year': u'2001', 'FilmName': u'238.      Lagaan: Once Upon a Time in India'}, {'Year': u'1949', 'FilmName': u'239.      White Heat'}, {'Year': u'1984', 'FilmName': u'240.      The Terminator'}, {'Year': u'1969', 'FilmName': u'241.      Butch Cassidy and the Sundance Kid'}, {'Year': u'1984', 'FilmName': u'242.      Paris, Texas'}, {'Year': u'1988', 'FilmName': u'243.      Akira'}, {'Year': u'1992', 'FilmName': u'244.      Aladdin'}, {'Year': u'2014', 'FilmName': u'245.      PK'}, {'Year': u'2016', 'FilmName': u'246.      Contratiempo'}, {'Year': u'2015', 'FilmName': u'247.      Drishyam'}, {'Year': u'2014', 'FilmName': u'248.      Guardians of the Galaxy'}, {'Year': u'1997', 'FilmName': u'249.      Shin seiki Evangelion Gekij\\xf4-ban: Air/Magokoro wo, kimi ni'}, {'Year': u'1993', 'FilmName': u'250.      Groundhog Day'}]\n"
     ]
    }
   ],
   "source": [
    "print (lst_name_details)"
   ]
  },
  {
   "cell_type": "code",
   "execution_count": 23,
   "metadata": {
    "scrolled": true
   },
   "outputs": [
    {
     "name": "stdout",
     "output_type": "stream",
     "text": [
      "[{'IMDB Rating': u'9.2'}, {'IMDB Rating': u'9.1'}, {'IMDB Rating': u'9.0'}, {'IMDB Rating': u'9.0'}, {'IMDB Rating': u'8.9'}, {'IMDB Rating': u'8.9'}, {'IMDB Rating': u'8.9'}, {'IMDB Rating': u'8.9'}, {'IMDB Rating': u'8.8'}, {'IMDB Rating': u'8.8'}, {'IMDB Rating': u'8.8'}, {'IMDB Rating': u'8.8'}, {'IMDB Rating': u'8.7'}, {'IMDB Rating': u'8.7'}, {'IMDB Rating': u'8.7'}, {'IMDB Rating': u'8.6'}, {'IMDB Rating': u'8.6'}, {'IMDB Rating': u'8.6'}, {'IMDB Rating': u'8.6'}, {'IMDB Rating': u'8.6'}, {'IMDB Rating': u'8.6'}, {'IMDB Rating': u'8.6'}, {'IMDB Rating': u'8.6'}, {'IMDB Rating': u'8.6'}, {'IMDB Rating': u'8.6'}, {'IMDB Rating': u'8.6'}, {'IMDB Rating': u'8.5'}, {'IMDB Rating': u'8.5'}, {'IMDB Rating': u'8.5'}, {'IMDB Rating': u'8.5'}, {'IMDB Rating': u'8.5'}, {'IMDB Rating': u'8.5'}, {'IMDB Rating': u'8.5'}, {'IMDB Rating': u'8.5'}, {'IMDB Rating': u'8.5'}, {'IMDB Rating': u'8.5'}, {'IMDB Rating': u'8.5'}, {'IMDB Rating': u'8.5'}, {'IMDB Rating': u'8.5'}, {'IMDB Rating': u'8.5'}, {'IMDB Rating': u'8.5'}, {'IMDB Rating': u'8.5'}, {'IMDB Rating': u'8.5'}, {'IMDB Rating': u'8.5'}, {'IMDB Rating': u'8.5'}, {'IMDB Rating': u'8.5'}, {'IMDB Rating': u'8.5'}, {'IMDB Rating': u'8.5'}, {'IMDB Rating': u'8.4'}, {'IMDB Rating': u'8.4'}, {'IMDB Rating': u'8.4'}, {'IMDB Rating': u'8.4'}, {'IMDB Rating': u'8.4'}, {'IMDB Rating': u'8.4'}, {'IMDB Rating': u'8.4'}, {'IMDB Rating': u'8.4'}, {'IMDB Rating': u'8.4'}, {'IMDB Rating': u'8.4'}, {'IMDB Rating': u'8.4'}, {'IMDB Rating': u'8.4'}, {'IMDB Rating': u'8.4'}, {'IMDB Rating': u'8.4'}, {'IMDB Rating': u'8.4'}, {'IMDB Rating': u'8.4'}, {'IMDB Rating': u'8.4'}, {'IMDB Rating': u'8.4'}, {'IMDB Rating': u'8.4'}, {'IMDB Rating': u'8.4'}, {'IMDB Rating': u'8.4'}, {'IMDB Rating': u'8.4'}, {'IMDB Rating': u'8.4'}, {'IMDB Rating': u'8.3'}, {'IMDB Rating': u'8.3'}, {'IMDB Rating': u'8.3'}, {'IMDB Rating': u'8.3'}, {'IMDB Rating': u'8.3'}, {'IMDB Rating': u'8.3'}, {'IMDB Rating': u'8.3'}, {'IMDB Rating': u'8.3'}, {'IMDB Rating': u'8.3'}, {'IMDB Rating': u'8.3'}, {'IMDB Rating': u'8.3'}, {'IMDB Rating': u'8.3'}, {'IMDB Rating': u'8.3'}, {'IMDB Rating': u'8.3'}, {'IMDB Rating': u'8.3'}, {'IMDB Rating': u'8.3'}, {'IMDB Rating': u'8.3'}, {'IMDB Rating': u'8.3'}, {'IMDB Rating': u'8.3'}, {'IMDB Rating': u'8.3'}, {'IMDB Rating': u'8.3'}, {'IMDB Rating': u'8.3'}, {'IMDB Rating': u'8.3'}, {'IMDB Rating': u'8.3'}, {'IMDB Rating': u'8.3'}, {'IMDB Rating': u'8.3'}, {'IMDB Rating': u'8.3'}, {'IMDB Rating': u'8.3'}, {'IMDB Rating': u'8.2'}, {'IMDB Rating': u'8.2'}, {'IMDB Rating': u'8.2'}, {'IMDB Rating': u'8.2'}, {'IMDB Rating': u'8.2'}, {'IMDB Rating': u'8.2'}, {'IMDB Rating': u'8.2'}, {'IMDB Rating': u'8.2'}, {'IMDB Rating': u'8.2'}, {'IMDB Rating': u'8.2'}, {'IMDB Rating': u'8.2'}, {'IMDB Rating': u'8.2'}, {'IMDB Rating': u'8.2'}, {'IMDB Rating': u'8.2'}, {'IMDB Rating': u'8.2'}, {'IMDB Rating': u'8.2'}, {'IMDB Rating': u'8.2'}, {'IMDB Rating': u'8.2'}, {'IMDB Rating': u'8.2'}, {'IMDB Rating': u'8.2'}, {'IMDB Rating': u'8.2'}, {'IMDB Rating': u'8.2'}, {'IMDB Rating': u'8.2'}, {'IMDB Rating': u'8.2'}, {'IMDB Rating': u'8.2'}, {'IMDB Rating': u'8.2'}, {'IMDB Rating': u'8.2'}, {'IMDB Rating': u'8.2'}, {'IMDB Rating': u'8.2'}, {'IMDB Rating': u'8.2'}, {'IMDB Rating': u'8.2'}, {'IMDB Rating': u'8.2'}, {'IMDB Rating': u'8.2'}, {'IMDB Rating': u'8.2'}, {'IMDB Rating': u'8.2'}, {'IMDB Rating': u'8.2'}, {'IMDB Rating': u'8.2'}, {'IMDB Rating': u'8.2'}, {'IMDB Rating': u'8.2'}, {'IMDB Rating': u'8.2'}, {'IMDB Rating': u'8.2'}, {'IMDB Rating': u'8.2'}, {'IMDB Rating': u'8.2'}, {'IMDB Rating': u'8.2'}, {'IMDB Rating': u'8.2'}, {'IMDB Rating': u'8.1'}, {'IMDB Rating': u'8.1'}, {'IMDB Rating': u'8.1'}, {'IMDB Rating': u'8.1'}, {'IMDB Rating': u'8.1'}, {'IMDB Rating': u'8.1'}, {'IMDB Rating': u'8.1'}, {'IMDB Rating': u'8.1'}, {'IMDB Rating': u'8.1'}, {'IMDB Rating': u'8.1'}, {'IMDB Rating': u'8.1'}, {'IMDB Rating': u'8.1'}, {'IMDB Rating': u'8.1'}, {'IMDB Rating': u'8.1'}, {'IMDB Rating': u'8.1'}, {'IMDB Rating': u'8.1'}, {'IMDB Rating': u'8.1'}, {'IMDB Rating': u'8.1'}, {'IMDB Rating': u'8.1'}, {'IMDB Rating': u'8.1'}, {'IMDB Rating': u'8.1'}, {'IMDB Rating': u'8.1'}, {'IMDB Rating': u'8.1'}, {'IMDB Rating': u'8.1'}, {'IMDB Rating': u'8.1'}, {'IMDB Rating': u'8.1'}, {'IMDB Rating': u'8.1'}, {'IMDB Rating': u'8.1'}, {'IMDB Rating': u'8.1'}, {'IMDB Rating': u'8.1'}, {'IMDB Rating': u'8.1'}, {'IMDB Rating': u'8.1'}, {'IMDB Rating': u'8.1'}, {'IMDB Rating': u'8.1'}, {'IMDB Rating': u'8.1'}, {'IMDB Rating': u'8.1'}, {'IMDB Rating': u'8.1'}, {'IMDB Rating': u'8.1'}, {'IMDB Rating': u'8.1'}, {'IMDB Rating': u'8.1'}, {'IMDB Rating': u'8.1'}, {'IMDB Rating': u'8.1'}, {'IMDB Rating': u'8.1'}, {'IMDB Rating': u'8.1'}, {'IMDB Rating': u'8.1'}, {'IMDB Rating': u'8.1'}, {'IMDB Rating': u'8.1'}, {'IMDB Rating': u'8.1'}, {'IMDB Rating': u'8.1'}, {'IMDB Rating': u'8.1'}, {'IMDB Rating': u'8.1'}, {'IMDB Rating': u'8.1'}, {'IMDB Rating': u'8.1'}, {'IMDB Rating': u'8.1'}, {'IMDB Rating': u'8.1'}, {'IMDB Rating': u'8.1'}, {'IMDB Rating': u'8.1'}, {'IMDB Rating': u'8.1'}, {'IMDB Rating': u'8.1'}, {'IMDB Rating': u'8.1'}, {'IMDB Rating': u'8.1'}, {'IMDB Rating': u'8.1'}, {'IMDB Rating': u'8.1'}, {'IMDB Rating': u'8.1'}, {'IMDB Rating': u'8.1'}, {'IMDB Rating': u'8.1'}, {'IMDB Rating': u'8.1'}, {'IMDB Rating': u'8.1'}, {'IMDB Rating': u'8.1'}, {'IMDB Rating': u'8.1'}, {'IMDB Rating': u'8.1'}, {'IMDB Rating': u'8.0'}, {'IMDB Rating': u'8.0'}, {'IMDB Rating': u'8.0'}, {'IMDB Rating': u'8.0'}, {'IMDB Rating': u'8.0'}, {'IMDB Rating': u'8.0'}, {'IMDB Rating': u'8.0'}, {'IMDB Rating': u'8.0'}, {'IMDB Rating': u'8.0'}, {'IMDB Rating': u'8.0'}, {'IMDB Rating': u'8.0'}, {'IMDB Rating': u'8.0'}, {'IMDB Rating': u'8.0'}, {'IMDB Rating': u'8.0'}, {'IMDB Rating': u'8.0'}, {'IMDB Rating': u'8.0'}, {'IMDB Rating': u'8.0'}, {'IMDB Rating': u'8.0'}, {'IMDB Rating': u'8.0'}, {'IMDB Rating': u'8.0'}, {'IMDB Rating': u'8.0'}, {'IMDB Rating': u'8.0'}, {'IMDB Rating': u'8.0'}, {'IMDB Rating': u'8.0'}, {'IMDB Rating': u'8.0'}, {'IMDB Rating': u'8.0'}, {'IMDB Rating': u'8.0'}, {'IMDB Rating': u'8.0'}, {'IMDB Rating': u'8.0'}, {'IMDB Rating': u'8.0'}, {'IMDB Rating': u'8.0'}, {'IMDB Rating': u'8.0'}, {'IMDB Rating': u'8.0'}, {'IMDB Rating': u'8.0'}, {'IMDB Rating': u'8.0'}]\n"
     ]
    }
   ],
   "source": [
    "print (lst_rating)"
   ]
  },
  {
   "cell_type": "code",
   "execution_count": 24,
   "metadata": {},
   "outputs": [
    {
     "data": {
      "text/html": [
       "<div>\n",
       "<table border=\"1\" class=\"dataframe\">\n",
       "  <thead>\n",
       "    <tr style=\"text-align: right;\">\n",
       "      <th></th>\n",
       "      <th>IMDB Rating</th>\n",
       "    </tr>\n",
       "  </thead>\n",
       "  <tbody>\n",
       "    <tr>\n",
       "      <th>0</th>\n",
       "      <td>9.2</td>\n",
       "    </tr>\n",
       "    <tr>\n",
       "      <th>1</th>\n",
       "      <td>9.1</td>\n",
       "    </tr>\n",
       "    <tr>\n",
       "      <th>2</th>\n",
       "      <td>9.0</td>\n",
       "    </tr>\n",
       "    <tr>\n",
       "      <th>3</th>\n",
       "      <td>9.0</td>\n",
       "    </tr>\n",
       "    <tr>\n",
       "      <th>4</th>\n",
       "      <td>8.9</td>\n",
       "    </tr>\n",
       "  </tbody>\n",
       "</table>\n",
       "</div>"
      ],
      "text/plain": [
       "  IMDB Rating\n",
       "0         9.2\n",
       "1         9.1\n",
       "2         9.0\n",
       "3         9.0\n",
       "4         8.9"
      ]
     },
     "execution_count": 24,
     "metadata": {},
     "output_type": "execute_result"
    }
   ],
   "source": [
    "df_rating = pd.DataFrame(lst_rating)\n",
    "df_rating.head()"
   ]
  },
  {
   "cell_type": "code",
   "execution_count": 25,
   "metadata": {},
   "outputs": [
    {
     "data": {
      "text/html": [
       "<div>\n",
       "<table border=\"1\" class=\"dataframe\">\n",
       "  <thead>\n",
       "    <tr style=\"text-align: right;\">\n",
       "      <th></th>\n",
       "      <th>FilmName</th>\n",
       "      <th>Year</th>\n",
       "    </tr>\n",
       "  </thead>\n",
       "  <tbody>\n",
       "    <tr>\n",
       "      <th>0</th>\n",
       "      <td>1.      The Shawshank Redemption</td>\n",
       "      <td>1994</td>\n",
       "    </tr>\n",
       "    <tr>\n",
       "      <th>1</th>\n",
       "      <td>2.      The Godfather</td>\n",
       "      <td>1972</td>\n",
       "    </tr>\n",
       "    <tr>\n",
       "      <th>2</th>\n",
       "      <td>3.      The Godfather: Part II</td>\n",
       "      <td>1974</td>\n",
       "    </tr>\n",
       "    <tr>\n",
       "      <th>3</th>\n",
       "      <td>4.      The Dark Knight</td>\n",
       "      <td>2008</td>\n",
       "    </tr>\n",
       "    <tr>\n",
       "      <th>4</th>\n",
       "      <td>5.      12 Angry Men</td>\n",
       "      <td>1957</td>\n",
       "    </tr>\n",
       "  </tbody>\n",
       "</table>\n",
       "</div>"
      ],
      "text/plain": [
       "                           FilmName  Year\n",
       "0  1.      The Shawshank Redemption  1994\n",
       "1             2.      The Godfather  1972\n",
       "2    3.      The Godfather: Part II  1974\n",
       "3           4.      The Dark Knight  2008\n",
       "4              5.      12 Angry Men  1957"
      ]
     },
     "execution_count": 25,
     "metadata": {},
     "output_type": "execute_result"
    }
   ],
   "source": [
    "df_name_year = pd.DataFrame(lst_name_details)\n",
    "df_name_year.head()"
   ]
  },
  {
   "cell_type": "code",
   "execution_count": 26,
   "metadata": {},
   "outputs": [],
   "source": [
    "df_final = pd.DataFrame()"
   ]
  },
  {
   "cell_type": "code",
   "execution_count": 27,
   "metadata": {},
   "outputs": [
    {
     "data": {
      "text/html": [
       "<div>\n",
       "<table border=\"1\" class=\"dataframe\">\n",
       "  <thead>\n",
       "    <tr style=\"text-align: right;\">\n",
       "      <th></th>\n",
       "      <th>FilmName</th>\n",
       "      <th>FileYear</th>\n",
       "      <th>IMDBRatings</th>\n",
       "    </tr>\n",
       "  </thead>\n",
       "  <tbody>\n",
       "    <tr>\n",
       "      <th>0</th>\n",
       "      <td>1.      The Shawshank Redemption</td>\n",
       "      <td>1994</td>\n",
       "      <td>9.2</td>\n",
       "    </tr>\n",
       "    <tr>\n",
       "      <th>1</th>\n",
       "      <td>2.      The Godfather</td>\n",
       "      <td>1972</td>\n",
       "      <td>9.1</td>\n",
       "    </tr>\n",
       "    <tr>\n",
       "      <th>2</th>\n",
       "      <td>3.      The Godfather: Part II</td>\n",
       "      <td>1974</td>\n",
       "      <td>9.0</td>\n",
       "    </tr>\n",
       "    <tr>\n",
       "      <th>3</th>\n",
       "      <td>4.      The Dark Knight</td>\n",
       "      <td>2008</td>\n",
       "      <td>9.0</td>\n",
       "    </tr>\n",
       "    <tr>\n",
       "      <th>4</th>\n",
       "      <td>5.      12 Angry Men</td>\n",
       "      <td>1957</td>\n",
       "      <td>8.9</td>\n",
       "    </tr>\n",
       "  </tbody>\n",
       "</table>\n",
       "</div>"
      ],
      "text/plain": [
       "                           FilmName FileYear IMDBRatings\n",
       "0  1.      The Shawshank Redemption     1994         9.2\n",
       "1             2.      The Godfather     1972         9.1\n",
       "2    3.      The Godfather: Part II     1974         9.0\n",
       "3           4.      The Dark Knight     2008         9.0\n",
       "4              5.      12 Angry Men     1957         8.9"
      ]
     },
     "execution_count": 27,
     "metadata": {},
     "output_type": "execute_result"
    }
   ],
   "source": [
    "df_final['FilmName'] = df_name_year.FilmName\n",
    "df_final['FileYear'] = df_name_year.Year\n",
    "df_final['IMDBRatings'] = df_rating['IMDB Rating']\n",
    "\n",
    "df_final.head()"
   ]
  },
  {
   "cell_type": "code",
   "execution_count": 28,
   "metadata": {},
   "outputs": [
    {
     "data": {
      "text/html": [
       "<div>\n",
       "<table border=\"1\" class=\"dataframe\">\n",
       "  <thead>\n",
       "    <tr style=\"text-align: right;\">\n",
       "      <th></th>\n",
       "      <th>FilmName</th>\n",
       "      <th>FileYear</th>\n",
       "      <th>IMDBRatings</th>\n",
       "    </tr>\n",
       "  </thead>\n",
       "  <tbody>\n",
       "    <tr>\n",
       "      <th>0</th>\n",
       "      <td>1The Shawshank Redemption</td>\n",
       "      <td>1994</td>\n",
       "      <td>9.2</td>\n",
       "    </tr>\n",
       "    <tr>\n",
       "      <th>1</th>\n",
       "      <td>2The Godfather</td>\n",
       "      <td>1972</td>\n",
       "      <td>9.1</td>\n",
       "    </tr>\n",
       "    <tr>\n",
       "      <th>2</th>\n",
       "      <td>3The Godfather: Part II</td>\n",
       "      <td>1974</td>\n",
       "      <td>9.0</td>\n",
       "    </tr>\n",
       "    <tr>\n",
       "      <th>3</th>\n",
       "      <td>4The Dark Knight</td>\n",
       "      <td>2008</td>\n",
       "      <td>9.0</td>\n",
       "    </tr>\n",
       "    <tr>\n",
       "      <th>4</th>\n",
       "      <td>512 Angry Men</td>\n",
       "      <td>1957</td>\n",
       "      <td>8.9</td>\n",
       "    </tr>\n",
       "  </tbody>\n",
       "</table>\n",
       "</div>"
      ],
      "text/plain": [
       "                    FilmName FileYear IMDBRatings\n",
       "0  1The Shawshank Redemption     1994         9.2\n",
       "1             2The Godfather     1972         9.1\n",
       "2    3The Godfather: Part II     1974         9.0\n",
       "3           4The Dark Knight     2008         9.0\n",
       "4              512 Angry Men     1957         8.9"
      ]
     },
     "execution_count": 28,
     "metadata": {},
     "output_type": "execute_result"
    }
   ],
   "source": [
    "df_final.FilmName = df_final.FilmName.replace(to_replace ='[.*]      ', value = '', regex = True)\n",
    "df_final.head()"
   ]
  },
  {
   "cell_type": "code",
   "execution_count": 29,
   "metadata": {},
   "outputs": [
    {
     "data": {
      "text/html": [
       "<div>\n",
       "<table border=\"1\" class=\"dataframe\">\n",
       "  <thead>\n",
       "    <tr style=\"text-align: right;\">\n",
       "      <th></th>\n",
       "      <th>FilmName</th>\n",
       "      <th>FileYear</th>\n",
       "      <th>IMDBRatings</th>\n",
       "    </tr>\n",
       "  </thead>\n",
       "  <tbody>\n",
       "    <tr>\n",
       "      <th>0</th>\n",
       "      <td>The Shawshank Redemption</td>\n",
       "      <td>1994</td>\n",
       "      <td>9.2</td>\n",
       "    </tr>\n",
       "    <tr>\n",
       "      <th>1</th>\n",
       "      <td>The Godfather</td>\n",
       "      <td>1972</td>\n",
       "      <td>9.1</td>\n",
       "    </tr>\n",
       "    <tr>\n",
       "      <th>2</th>\n",
       "      <td>The Godfather: Part II</td>\n",
       "      <td>1974</td>\n",
       "      <td>9.0</td>\n",
       "    </tr>\n",
       "    <tr>\n",
       "      <th>3</th>\n",
       "      <td>The Dark Knight</td>\n",
       "      <td>2008</td>\n",
       "      <td>9.0</td>\n",
       "    </tr>\n",
       "    <tr>\n",
       "      <th>4</th>\n",
       "      <td>Angry Men</td>\n",
       "      <td>1957</td>\n",
       "      <td>8.9</td>\n",
       "    </tr>\n",
       "  </tbody>\n",
       "</table>\n",
       "</div>"
      ],
      "text/plain": [
       "                   FilmName FileYear IMDBRatings\n",
       "0  The Shawshank Redemption     1994         9.2\n",
       "1             The Godfather     1972         9.1\n",
       "2    The Godfather: Part II     1974         9.0\n",
       "3           The Dark Knight     2008         9.0\n",
       "4                 Angry Men     1957         8.9"
      ]
     },
     "execution_count": 29,
     "metadata": {},
     "output_type": "execute_result"
    }
   ],
   "source": [
    "df_final.FilmName = df_final.FilmName.str.replace('\\d+', '')\n",
    "df_final.head()"
   ]
  },
  {
   "cell_type": "code",
   "execution_count": 30,
   "metadata": {},
   "outputs": [
    {
     "data": {
      "text/plain": [
       "<matplotlib.axes._subplots.AxesSubplot at 0x12096fd90>"
      ]
     },
     "execution_count": 30,
     "metadata": {},
     "output_type": "execute_result"
    },
    {
     "data": {
      "image/png": "[encoded data removed]",
      "text/plain": [
       "<Figure size 720x576 with 1 Axes>"
      ]
     },
     "metadata": {
      "needs_background": "light"
     },
     "output_type": "display_data"
    }
   ],
   "source": [
    "plt.figure(figsize=(10, 8))\n",
    "sns.countplot(x='IMDBRatings', hue='IMDBRatings', data=df_final)"
   ]
  },
  {
   "cell_type": "code",
   "execution_count": 31,
   "metadata": {},
   "outputs": [
    {
     "data": {
      "text/plain": [
       "IMDBRatings\n",
       "8.0    35\n",
       "8.1    71\n",
       "8.2    45\n",
       "8.3    28\n",
       "8.4    23\n",
       "8.5    22\n",
       "8.6    11\n",
       "8.7     3\n",
       "8.8     4\n",
       "8.9     4\n",
       "9.0     2\n",
       "9.1     1\n",
       "9.2     1\n",
       "Name: IMDBRatings, dtype: int64"
      ]
     },
     "execution_count": 31,
     "metadata": {},
     "output_type": "execute_result"
    }
   ],
   "source": [
    "df_final.groupby(['IMDBRatings'])['IMDBRatings'].count()"
   ]
  },
  {
   "cell_type": "code",
   "execution_count": null,
   "metadata": {},
   "outputs": [],
   "source": []
  }
 ],
 "metadata": {
  "kernelspec": {
   "display_name": "Python 2",
   "language": "python",
   "name": "python2"
  },
  "language_info": {
   "codemirror_mode": {
    "name": "ipython",
    "version": 2
   },
   "file_extension": ".py",
   "mimetype": "text/x-python",
   "name": "python",
   "nbconvert_exporter": "python",
   "pygments_lexer": "ipython2",
   "version": "2.7.15"
  }
 },
 "nbformat": 4,
 "nbformat_minor": 2
}
